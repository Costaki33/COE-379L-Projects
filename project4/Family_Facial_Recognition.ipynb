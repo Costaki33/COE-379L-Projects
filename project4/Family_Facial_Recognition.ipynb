{
 "cells": [
  {
   "cell_type": "markdown",
   "id": "6c01de71-3198-48f6-ad5a-8157fe307593",
   "metadata": {},
   "source": [
    "# Family Facial Recognition for Home Security \n",
    "By Constantinos Skevofilax and Nikhil Sharma \n",
    "\n",
    "The goal of this project is to create a ML model that is able to classify members of a household over 'others', with the goal of integrating this model with a home security camera to determine who is entering a household and notifying the homeowner of who is visiting. "
   ]
  },
  {
   "cell_type": "code",
   "execution_count": 8,
   "id": "72ded72c-eb14-41a5-b7df-5c2dc619a032",
   "metadata": {},
   "outputs": [],
   "source": [
    "import os\n",
    "import random\n",
    "import numpy as np\n",
    "from matplotlib import pyplot as plt"
   ]
  },
  {
   "cell_type": "code",
   "execution_count": 9,
   "id": "906a7cd3-174d-4e18-a37f-a3fb3c421b13",
   "metadata": {},
   "outputs": [],
   "source": [
    "from tensorflow.keras.models import Model\n",
    "from tensorflow.keras.layers import Layer, Conv2D, Dense, MaxPooling2D, Input, Flatten\n",
    "import tensorflow as tf"
   ]
  },
  {
   "cell_type": "code",
   "execution_count": 11,
   "id": "0c05f37e-5dac-478c-bd6f-9a0e91ed17bd",
   "metadata": {},
   "outputs": [],
   "source": [
    "POS_PATH = os.path.join('data', 'positive')\n",
    "NEG_PATH = os.path.join('data', 'negative')\n",
    "ANC_PATH = os.path.join('data', 'anchor')"
   ]
  },
  {
   "cell_type": "code",
   "execution_count": 13,
   "id": "9eb6d821-d888-4885-925a-539c1d00d35f",
   "metadata": {},
   "outputs": [],
   "source": [
    "os.makedirs(POS_PATH)\n",
    "os.makedirs(NEG_PATH)\n",
    "os.makedirs(ANC_PATH)"
   ]
  },
  {
   "cell_type": "code",
   "execution_count": 14,
   "id": "f4b79633-5f82-4d1f-a55e-aa01d4f6c66e",
   "metadata": {},
   "outputs": [
    {
     "name": "stdout",
     "output_type": "stream",
     "text": [
      "\n",
      "gzip: stdin: unexpected end of file\n",
      "tar: Unexpected EOF in archive\n",
      "tar: Unexpected EOF in archive\n",
      "tar: Error is not recoverable: exiting now\n"
     ]
    }
   ],
   "source": [
    "# http://vis-www.cs.umass.edu/lfw/\n",
    "# LFW Dataset for the 'others' \n",
    "!tar -xf lfw.tgz"
   ]
  },
  {
   "cell_type": "code",
   "execution_count": 15,
   "id": "8a485bd9-be26-422e-967f-a3e7a0489724",
   "metadata": {},
   "outputs": [],
   "source": [
    "for directory in os.listdir('lfw'):\n",
    "    for file in os.listdir(os.path.join('lfw', directory)):\n",
    "        EX_PATH = os.path.join('lfw', directory, file)\n",
    "        NEW_PATH = os.path.join(NEG_PATH, file)\n",
    "        os.replace(EX_PATH, NEW_PATH)"
   ]
  },
  {
   "cell_type": "code",
   "execution_count": 16,
   "id": "435e61ee-5a37-4a27-bf60-4ef332202a27",
   "metadata": {},
   "outputs": [],
   "source": [
    "num_files = len(os.listdir(NEG_PATH))"
   ]
  },
  {
   "cell_type": "code",
   "execution_count": 17,
   "id": "675f7476-8ce0-4cce-b5e0-74ed5e60546d",
   "metadata": {},
   "outputs": [
    {
     "data": {
      "text/plain": [
       "1555"
      ]
     },
     "execution_count": 17,
     "metadata": {},
     "output_type": "execute_result"
    }
   ],
   "source": [
    "num_files"
   ]
  },
  {
   "cell_type": "markdown",
   "id": "50fcb040-e619-461d-8806-d267bc64ada0",
   "metadata": {},
   "source": [
    "## Data Augmentation \n",
    "We want to create a comparable family data set that will match the size of the negatives dataset. We will achieve this by using image augmentation methods such as flipping, stretching, and rotating images. comproable "
   ]
  },
  {
   "cell_type": "code",
   "execution_count": 18,
   "id": "d74ca20f-7168-4842-ad3b-438ed4d918d1",
   "metadata": {},
   "outputs": [],
   "source": [
    "# Data Augmentation to match negative amount of 1555 \n",
    "import urllib.request\n",
    "import shutil\n",
    "from IPython.display import Image"
   ]
  },
  {
   "cell_type": "code",
   "execution_count": 20,
   "id": "22f47d8f-d6a2-4a7c-a13b-16f2b2cf9e54",
   "metadata": {},
   "outputs": [
    {
     "name": "stdout",
     "output_type": "stream",
     "text": [
      "Collecting torchvision\n",
      "  Downloading torchvision-0.18.0-cp311-cp311-manylinux1_x86_64.whl (7.0 MB)\n",
      "\u001b[2K     \u001b[90m━━━━━━━━━━━━━━━━━━━━━━━━━━━━━━━━━━━━━━━━\u001b[0m \u001b[32m7.0/7.0 MB\u001b[0m \u001b[31m22.6 MB/s\u001b[0m eta \u001b[36m0:00:00\u001b[0m00:01\u001b[0m00:01\u001b[0m\n",
      "\u001b[?25hRequirement already satisfied: numpy in /usr/local/lib/python3.11/site-packages (from torchvision) (1.26.4)\n",
      "Collecting torch==2.3.0\n",
      "  Downloading torch-2.3.0-cp311-cp311-manylinux1_x86_64.whl (779.2 MB)\n",
      "\u001b[2K     \u001b[90m━━━━━━━━━━━━━━━━━━━━━━━━━━━━━━━━━━━━━\u001b[0m \u001b[32m779.2/779.2 MB\u001b[0m \u001b[31m707.8 kB/s\u001b[0m eta \u001b[36m0:00:00\u001b[0m00:01\u001b[0m00:01\u001b[0m\n",
      "\u001b[?25hRequirement already satisfied: pillow!=8.3.*,>=5.3.0 in /usr/local/lib/python3.11/site-packages (from torchvision) (10.2.0)\n",
      "Requirement already satisfied: filelock in /usr/local/lib/python3.11/site-packages (from torch==2.3.0->torchvision) (3.13.1)\n",
      "Requirement already satisfied: typing-extensions>=4.8.0 in /usr/local/lib/python3.11/site-packages (from torch==2.3.0->torchvision) (4.10.0)\n",
      "Requirement already satisfied: sympy in /usr/local/lib/python3.11/site-packages (from torch==2.3.0->torchvision) (1.12)\n",
      "Requirement already satisfied: networkx in /usr/local/lib/python3.11/site-packages (from torch==2.3.0->torchvision) (3.2.1)\n",
      "Requirement already satisfied: jinja2 in /usr/local/lib/python3.11/site-packages (from torch==2.3.0->torchvision) (3.1.3)\n",
      "Requirement already satisfied: fsspec in /usr/local/lib/python3.11/site-packages (from torch==2.3.0->torchvision) (2024.2.0)\n",
      "Requirement already satisfied: nvidia-cuda-nvrtc-cu12==12.1.105 in /usr/local/lib/python3.11/site-packages (from torch==2.3.0->torchvision) (12.1.105)\n",
      "Requirement already satisfied: nvidia-cuda-runtime-cu12==12.1.105 in /usr/local/lib/python3.11/site-packages (from torch==2.3.0->torchvision) (12.1.105)\n",
      "Requirement already satisfied: nvidia-cuda-cupti-cu12==12.1.105 in /usr/local/lib/python3.11/site-packages (from torch==2.3.0->torchvision) (12.1.105)\n",
      "Requirement already satisfied: nvidia-cudnn-cu12==8.9.2.26 in /usr/local/lib/python3.11/site-packages (from torch==2.3.0->torchvision) (8.9.2.26)\n",
      "Requirement already satisfied: nvidia-cublas-cu12==12.1.3.1 in /usr/local/lib/python3.11/site-packages (from torch==2.3.0->torchvision) (12.1.3.1)\n",
      "Requirement already satisfied: nvidia-cufft-cu12==11.0.2.54 in /usr/local/lib/python3.11/site-packages (from torch==2.3.0->torchvision) (11.0.2.54)\n",
      "Requirement already satisfied: nvidia-curand-cu12==10.3.2.106 in /usr/local/lib/python3.11/site-packages (from torch==2.3.0->torchvision) (10.3.2.106)\n",
      "Requirement already satisfied: nvidia-cusolver-cu12==11.4.5.107 in /usr/local/lib/python3.11/site-packages (from torch==2.3.0->torchvision) (11.4.5.107)\n",
      "Requirement already satisfied: nvidia-cusparse-cu12==12.1.0.106 in /usr/local/lib/python3.11/site-packages (from torch==2.3.0->torchvision) (12.1.0.106)\n",
      "Collecting nvidia-nccl-cu12==2.20.5\n",
      "  Downloading nvidia_nccl_cu12-2.20.5-py3-none-manylinux2014_x86_64.whl (176.2 MB)\n",
      "\u001b[2K     \u001b[90m━━━━━━━━━━━━━━━━━━━━━━━━━━━━━━━━━━━━━━━\u001b[0m \u001b[32m176.2/176.2 MB\u001b[0m \u001b[31m1.6 MB/s\u001b[0m eta \u001b[36m0:00:00\u001b[0m00:01\u001b[0m00:01\u001b[0m\n",
      "\u001b[?25hRequirement already satisfied: nvidia-nvtx-cu12==12.1.105 in /usr/local/lib/python3.11/site-packages (from torch==2.3.0->torchvision) (12.1.105)\n",
      "Collecting triton==2.3.0\n",
      "  Downloading triton-2.3.0-cp311-cp311-manylinux_2_17_x86_64.manylinux2014_x86_64.whl (168.1 MB)\n",
      "\u001b[2K     \u001b[90m━━━━━━━━━━━━━━━━━━━━━━━━━━━━━━━━━━━━━━━\u001b[0m \u001b[32m168.1/168.1 MB\u001b[0m \u001b[31m5.1 MB/s\u001b[0m eta \u001b[36m0:00:00\u001b[0m00:01\u001b[0m00:01\u001b[0m\n",
      "\u001b[?25hRequirement already satisfied: nvidia-nvjitlink-cu12 in /usr/local/lib/python3.11/site-packages (from nvidia-cusolver-cu12==11.4.5.107->torch==2.3.0->torchvision) (12.4.99)\n",
      "Requirement already satisfied: MarkupSafe>=2.0 in /usr/local/lib/python3.11/site-packages (from jinja2->torch==2.3.0->torchvision) (2.1.5)\n",
      "Requirement already satisfied: mpmath>=0.19 in /usr/local/lib/python3.11/site-packages (from sympy->torch==2.3.0->torchvision) (1.3.0)\n",
      "Installing collected packages: triton, nvidia-nccl-cu12, torch, torchvision\n",
      "  Attempting uninstall: triton\n",
      "    Found existing installation: triton 2.2.0\n",
      "    Uninstalling triton-2.2.0:\n",
      "      Successfully uninstalled triton-2.2.0\n",
      "  Attempting uninstall: nvidia-nccl-cu12\n",
      "    Found existing installation: nvidia-nccl-cu12 2.19.3\n",
      "    Uninstalling nvidia-nccl-cu12-2.19.3:\n",
      "      Successfully uninstalled nvidia-nccl-cu12-2.19.3\n",
      "  Attempting uninstall: torch\n",
      "    Found existing installation: torch 2.2.1\n",
      "    Uninstalling torch-2.2.1:\n",
      "      Successfully uninstalled torch-2.2.1\n",
      "Successfully installed nvidia-nccl-cu12-2.20.5 torch-2.3.0 torchvision-0.18.0 triton-2.3.0\n",
      "\u001b[33mWARNING: Running pip as the 'root' user can result in broken permissions and conflicting behaviour with the system package manager. It is recommended to use a virtual environment instead: https://pip.pypa.io/warnings/venv\u001b[0m\u001b[33m\n",
      "\u001b[0m\n",
      "\u001b[1m[\u001b[0m\u001b[34;49mnotice\u001b[0m\u001b[1;39;49m]\u001b[0m\u001b[39;49m A new release of pip available: \u001b[0m\u001b[31;49m22.3.1\u001b[0m\u001b[39;49m -> \u001b[0m\u001b[32;49m24.0\u001b[0m\n",
      "\u001b[1m[\u001b[0m\u001b[34;49mnotice\u001b[0m\u001b[1;39;49m]\u001b[0m\u001b[39;49m To update, run: \u001b[0m\u001b[32;49mpip install --upgrade pip\u001b[0m\n",
      "Note: you may need to restart the kernel to use updated packages.\n"
     ]
    }
   ],
   "source": [
    "pip install torchvision"
   ]
  },
  {
   "cell_type": "code",
   "execution_count": 25,
   "id": "7fac2bd6-8020-44bd-a2d6-d1bf5d0602f7",
   "metadata": {},
   "outputs": [],
   "source": [
    "import os\n",
    "import torch\n",
    "import torchvision.transforms as transforms\n",
    "from torchvision.utils import make_grid\n",
    "from PIL import Image"
   ]
  },
  {
   "cell_type": "code",
   "execution_count": 41,
   "id": "656228ce-acb4-4839-9be5-34e5d5107fc8",
   "metadata": {},
   "outputs": [],
   "source": [
    "from torchvision.transforms.functional import to_pil_image\n",
    "\n",
    "def save_augmented_images(img_file, transform, save_path):\n",
    "    # Load the requested image\n",
    "    img = Image.open(img_file).resize((256, 256))\n",
    "\n",
    "    # Apply transformations to the image\n",
    "    augmented_images = [transform(img) for _ in range(4)]\n",
    "    for i, augmented_img_tensor in enumerate(augmented_images):\n",
    "        # Convert tensor to PIL Image\n",
    "        augmented_img_pil = to_pil_image(augmented_img_tensor)\n",
    "        # Save augmented image\n",
    "        augmented_img_pil.save(os.path.join(save_path, f\"{os.path.splitext(os.path.basename(img_file))[0]}_aug_{i}.jpg\"))\n"
   ]
  },
  {
   "cell_type": "code",
   "execution_count": 42,
   "id": "b3032c1c-3956-4cdc-b180-375ed361931e",
   "metadata": {},
   "outputs": [],
   "source": [
    "def visualize_generator(img_file, transform):\n",
    "    # Load the requested image\n",
    "    img = Image.open(img_file).resize((256,256))\n",
    "\n",
    "    # Apply transformations to the image\n",
    "    imgs = [transform(img) for _ in range(4)]\n",
    "    imgs = torch.stack(imgs)\n",
    "\n",
    "    # Display the augmented images in a grid format\n",
    "    grid = make_grid(imgs, nrow=2)\n",
    "\n",
    "    # Convert to numpy for plotting\n",
    "    grid_np = grid.numpy().transpose(1, 2, 0)\n",
    "    grid_np = (grid_np * 255).astype(np.uint8)\n",
    "\n",
    "    plt.figure(figsize=(15, 15))\n",
    "    plt.axis(\"off\")\n",
    "    plt.imshow(grid_np)\n",
    "    plt.show()"
   ]
  },
  {
   "cell_type": "code",
   "execution_count": 43,
   "id": "76ce3931-c740-49b2-a174-1936c8e7d2af",
   "metadata": {},
   "outputs": [],
   "source": [
    "# Flips, \"moves\", adjusts brightness, and rotates family dataset to have a comparable number to the negatives \n",
    "# dataset size (1555 images)\n",
    "transforms_list = [\n",
    "    transforms.Compose([\n",
    "        transforms.RandomAffine(degrees=0, translate=(0.5, 0)),\n",
    "        transforms.Pad(padding=200, fill=0, padding_mode='edge'),\n",
    "        transforms.ToTensor()\n",
    "    ]),\n",
    "    transforms.Compose([\n",
    "        transforms.ColorJitter(brightness=(0, 1)),\n",
    "        transforms.ToTensor()\n",
    "    ]),\n",
    "    transforms.Compose([\n",
    "        transforms.RandomAffine(degrees=30),\n",
    "        transforms.ToTensor()\n",
    "    ])\n",
    "]"
   ]
  },
  {
   "cell_type": "code",
   "execution_count": 45,
   "id": "45f30444-4420-439a-81a5-a8b6d84631c7",
   "metadata": {},
   "outputs": [],
   "source": [
    "# Loop through each image file in the directory\n",
    "for img_file in os.listdir(POS_PATH):\n",
    "    # Check if the file is an image file\n",
    "    if img_file.endswith('.jpg'):\n",
    "        # Get the full path to the image file\n",
    "        img_path = os.path.join(POS_PATH, img_file)\n",
    "        # Apply each transformation set and visualize the result\n",
    "        for transform in transforms_list:\n",
    "            save_augmented_images(img_path, transform, POS_PATH)"
   ]
  },
  {
   "cell_type": "code",
   "execution_count": 66,
   "id": "fd8ad102-d3e9-488f-97fb-2927e73c3a9c",
   "metadata": {},
   "outputs": [],
   "source": [
    "# Loop through each image file in the directory\n",
    "for img_file in os.listdir(ANC_PATH):\n",
    "    # Check if the file is an image file\n",
    "    if img_file.endswith('.jpg'):\n",
    "        # Get the full path to the image file\n",
    "        img_path = os.path.join(ANC_PATH, img_file)\n",
    "        # Apply each transformation set and visualize the result\n",
    "        for transform in transforms_list:\n",
    "            save_augmented_images(img_path, transform, ANC_PATH)"
   ]
  },
  {
   "cell_type": "code",
   "execution_count": 67,
   "id": "68c4ee15-4c1b-4e9e-bb36-59c211028d80",
   "metadata": {},
   "outputs": [
    {
     "data": {
      "text/plain": [
       "673"
      ]
     },
     "execution_count": 67,
     "metadata": {},
     "output_type": "execute_result"
    }
   ],
   "source": [
    "num_files2 = len(os.listdir(POS_PATH))\n",
    "num_files2\n",
    "\n",
    "num_files3 = len(os.listdir(ANC_PATH))\n",
    "num_files3"
   ]
  },
  {
   "cell_type": "markdown",
   "id": "78c66b94-9674-48c4-8d84-221c9161e3d0",
   "metadata": {},
   "source": [
    "## Preprocessing - Scaling and Resizing images "
   ]
  },
  {
   "cell_type": "code",
   "execution_count": 48,
   "id": "70e0eeb2-5e80-4331-9a8d-bc920387d79b",
   "metadata": {},
   "outputs": [],
   "source": [
    "# Preprocess images \n",
    "def preprocess(file_path): \n",
    "    # Read in image from file path\n",
    "    byte_img = tf.io.read_file(file_path)\n",
    "    # Load in the image \n",
    "    img = tf.io.decode_jpeg(byte_img)\n",
    "    \n",
    "    # Preprocessing steps - resizing the image to be 100x100x3\n",
    "    img = tf.image.resize(img, (100,100))\n",
    "    # Scale image to be between 0 and 1 \n",
    "    img = img / 255.0\n",
    "    \n",
    "    # Return image\n",
    "    return img    "
   ]
  },
  {
   "cell_type": "code",
   "execution_count": 109,
   "id": "e1ea3713-64f7-48b2-ae39-2472dd02bd0c",
   "metadata": {},
   "outputs": [],
   "source": [
    "# Mapping the anchors and the positives to each others \n",
    "anchor_teresa = tf.data.Dataset.list_files(ANC_PATH+'/teresa/*.jpg')\n",
    "positive_teresa = tf.data.Dataset.list_files(POS_PATH+'/teresa/*.jpg')\n",
    "\n",
    "anchor_athena = tf.data.Dataset.list_files(ANC_PATH+'/athena/*.jpg')\n",
    "positive_athena = tf.data.Dataset.list_files(POS_PATH+'/athena/*.jpg')\n",
    "\n",
    "anchor_costaki = tf.data.Dataset.list_files(ANC_PATH+'/costaki/*.jpg')\n",
    "positive_costaki = tf.data.Dataset.list_files(POS_PATH+'/costaki/*.jpg')\n",
    "\n",
    "anchor_george = tf.data.Dataset.list_files(ANC_PATH+'/george/*.jpg')\n",
    "positive_george = tf.data.Dataset.list_files(POS_PATH+'/george/*.jpg')\n",
    "\n",
    "negative = tf.data.Dataset.list_files(NEG_PATH+'/*.jpg').take(600)"
   ]
  },
  {
   "cell_type": "markdown",
   "id": "9425b8c1-ba9b-48e1-bcf6-acff6de4f92c",
   "metadata": {},
   "source": [
    "## Labeling Dataset "
   ]
  },
  {
   "cell_type": "code",
   "execution_count": 110,
   "id": "2f47ae8f-22ad-4c9e-890c-2b45398593e2",
   "metadata": {},
   "outputs": [],
   "source": [
    "positives_teresa = tf.data.Dataset.zip((anchor_teresa, positive_teresa, tf.data.Dataset.from_tensor_slices(tf.ones(len(anchor_teresa)))))\n",
    "positives_athena = tf.data.Dataset.zip((anchor_athena, positive_athena, tf.data.Dataset.from_tensor_slices(tf.ones(len(anchor_athena)))))\n",
    "positives_costaki = tf.data.Dataset.zip((anchor_costaki, positive_costaki, tf.data.Dataset.from_tensor_slices(tf.ones(len(anchor_costaki)))))\n",
    "positives_george = tf.data.Dataset.zip((anchor_george, positive_george, tf.data.Dataset.from_tensor_slices(tf.ones(len(anchor_george)))))\n",
    "\n",
    "# Combine positive examples for all individuals\n",
    "positives = positives_teresa.concatenate(positives_athena).concatenate(positives_costaki).concatenate(positives_george)\n",
    "\n",
    "# Get negatives \n",
    "negatives = tf.data.Dataset.zip((anchor, negative, tf.data.Dataset.from_tensor_slices(tf.zeros(len(anchor)))))\n",
    "\n",
    "# Combine positive and negative examples\n",
    "data = positives.concatenate(negative.map(lambda x: (x, x, tf.constant(0, dtype=tf.float32))))\n",
    "\n",
    "# Shuffle the dataset\n",
    "data = data.shuffle(buffer_size=1000)"
   ]
  },
  {
   "cell_type": "code",
   "execution_count": 111,
   "id": "97604bc2-9e83-404b-af82-437375ef87d4",
   "metadata": {},
   "outputs": [],
   "source": [
    "samples = data.as_numpy_iterator()"
   ]
  },
  {
   "cell_type": "code",
   "execution_count": 112,
   "id": "b12ea939-1de1-4372-933f-0c69ad1f6488",
   "metadata": {},
   "outputs": [],
   "source": [
    "example = samples.next()"
   ]
  },
  {
   "cell_type": "code",
   "execution_count": 113,
   "id": "5b91b810-377d-4045-ad0b-30e167b05019",
   "metadata": {},
   "outputs": [],
   "source": [
    "def preprocess_twin(input_img, validation_img, label):\n",
    "    return(preprocess(input_img), preprocess(validation_img), label)"
   ]
  },
  {
   "cell_type": "code",
   "execution_count": 114,
   "id": "5dc7f534-a6d2-4136-a350-0b7f078ef975",
   "metadata": {},
   "outputs": [],
   "source": [
    "res = preprocess_twin(*example)"
   ]
  },
  {
   "cell_type": "code",
   "execution_count": 115,
   "id": "c875d381-5242-4480-9208-4afde8352508",
   "metadata": {},
   "outputs": [
    {
     "data": {
      "text/plain": [
       "<matplotlib.image.AxesImage at 0x7fef0866e510>"
      ]
     },
     "execution_count": 115,
     "metadata": {},
     "output_type": "execute_result"
    },
    {
     "data": {
      "image/png": "[encoded data removed]",
      "text/plain": [
       "<Figure size 640x480 with 1 Axes>"
      ]
     },
     "metadata": {},
     "output_type": "display_data"
    }
   ],
   "source": [
    "plt.imshow(res[1])"
   ]
  },
  {
   "cell_type": "code",
   "execution_count": 116,
   "id": "b36a7ec6-a866-4d2a-9cf6-1cff3c179ce5",
   "metadata": {},
   "outputs": [
    {
     "data": {
      "text/plain": [
       "1.0"
      ]
     },
     "execution_count": 116,
     "metadata": {},
     "output_type": "execute_result"
    }
   ],
   "source": [
    "res[2]"
   ]
  }
 ],
 "metadata": {
  "kernelspec": {
   "display_name": "Python 3 (ipykernel)",
   "language": "python",
   "name": "python3"
  },
  "language_info": {
   "codemirror_mode": {
    "name": "ipython",
    "version": 3
   },
   "file_extension": ".py",
   "mimetype": "text/x-python",
   "name": "python",
   "nbconvert_exporter": "python",
   "pygments_lexer": "ipython3",
   "version": "3.11.1"
  }
 },
 "nbformat": 4,
 "nbformat_minor": 5
}
